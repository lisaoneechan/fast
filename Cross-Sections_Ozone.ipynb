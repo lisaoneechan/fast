{
 "cells": [
  {
   "cell_type": "code",
   "execution_count": 1,
   "metadata": {
    "collapsed": true
   },
   "outputs": [],
   "source": [
    "import scipy.io\n",
    "import numpy as np\n",
    "import decimal\n",
    "import pickle\n",
    "from matplotlib import pyplot as plt\n",
    "from matplotlib import rcParams"
   ]
  },
  {
   "cell_type": "code",
   "execution_count": 2,
   "metadata": {
    "collapsed": true
   },
   "outputs": [],
   "source": [
    "rcParams['figure.figsize'] = (20, 12)\n",
    "rcParams.update({'font.size': 16})"
   ]
  },
  {
   "cell_type": "markdown",
   "metadata": {},
   "source": [
    "Функция, которая считает Q(T)"
   ]
  },
  {
   "cell_type": "code",
   "execution_count": 3,
   "metadata": {
    "collapsed": true
   },
   "outputs": [],
   "source": [
    "def do_Qt16_O3(T):\n",
    "    mol = 3\n",
    "    Q_arr = np.zeros(5)\n",
    "    for iso in range(1, 6):\n",
    "        mol = str(mol)\n",
    "        iso = str(iso)\n",
    "        file = 'QTpy/'+mol+'_'+iso+'.QTpy'\n",
    "\n",
    "        QTdict = {}\n",
    "        with open(file, 'rb') as handle:\n",
    "            QTdict = pickle.loads(handle.read())\n",
    "        if(T==int(T)):\n",
    "            key=str(int(T))\n",
    "            Q = QTdict[key]\n",
    "        else:\n",
    "            key=str(int(T))\n",
    "            Q1 = float(QTdict[key])\n",
    "            key=str(int(T+1))\n",
    "            Q2 = float(QTdict[key])\n",
    "            QT = Q1+(Q2-Q1)*(T-int(T))\n",
    "            Q = QT\n",
    "        Q_arr[int(iso) - 1] = Q\n",
    "    return Q_arr"
   ]
  },
  {
   "cell_type": "markdown",
   "metadata": {},
   "source": [
    "Функция, которая считает контур Фойгта вокруг точки w0"
   ]
  },
  {
   "cell_type": "code",
   "execution_count": 4,
   "metadata": {
    "collapsed": true
   },
   "outputs": [],
   "source": [
    "def contur_Humlicek(w, w0, wL0, wD):\n",
    "    y = wL0/wD\n",
    "    x = np.zeros(len(w))\n",
    "    for i in range(len(w)):\n",
    "        x[i] = (w[i]-w0)/wD\n",
    "    t = np.zeros(len(w), dtype=np.complex_)\n",
    "    for i in range(len(w)):\n",
    "        t[i] = y - 1j*x[i]\n",
    "    u = np.zeros(len(x), dtype=np.complex_)\n",
    "    for i in range(len(x)):\n",
    "        u[i] = t[i]*t[i]\n",
    "    s = np.abs(x) + y    \n",
    "    p = (1e-150)*np.ones(len(w))\n",
    "    \n",
    "    ff1 = np.where(s >= 15) # region 1 (s>=15)\n",
    "    if len(ff1) != 0:\n",
    "        w4 = t[ff1]*0.5641896/(0.5 + u[ff1])\n",
    "        p[ff1] = np.real(w4)/(np.sqrt(np.pi)*wD)\n",
    "    \n",
    "    ff2 = np.where((s<15)&(s>=5.5)) # region 2 (5.5<=s<15)\n",
    "    if len(ff2) != 0:\n",
    "        w4 = t[ff2]*(1.410474+u[ff2]*0.5641896)/(0.75+u[ff2]*(3.0+u[ff2]))\n",
    "        p[ff2] = np.real(w4)/(np.sqrt(np.pi)*wD)\n",
    "    \n",
    "    ff3 = np.where((s<5.5) & (y>=0.195*np.abs(x)-0.176)) # region 3 (s<5.5, y>=0.195*abs(x)-0.176)\n",
    "    if len(ff3) != 0:\n",
    "        w4 = (16.4955 + t[ff3]*20.20933 + u[ff3]*11.96482 + t[ff3]*u[ff3]*3.778987 + \n",
    "              u[ff3]*u[ff3]*0.5642236)/(16.4955 + t[ff3]*38.82363 + \n",
    "                                                              u[ff3]*39.27121 + t[ff3]*u[ff3]*21.69274 + \n",
    "                                                              u[ff3]*u[ff3]*6.699398 + t[ff3]*u[ff3]*u[ff3])\n",
    "        p[ff3] = np.real(w4)/(np.sqrt(np.pi)*wD)\n",
    "    \n",
    "    ff4 = np.where((s<5.5) & (y<0.195*np.abs(x)-0.176)) # region 4 (s<5.5, y<0.195*abs(x)-0.176)\n",
    "    if len(ff4) != 0:\n",
    "        w4 = np.exp(u[ff4]) - t[ff4]*(36183.31 - u[ff4]*(3321.9905 - u[ff4]*(1540.787 - \n",
    "                                                                             u[ff4]*(219.0313 - u[ff4]*(35.76683 - \n",
    "                                                                                                        u[ff4]*(1.320522 - u[ff4]*0.56419))))))/(32066.6 - u[ff4]*(24322.84 - \n",
    "                                                                                                                                        u[ff4]*(9022.228 - u[ff4]*(2186.181 - \n",
    "                                                                                                                                        u[ff4]*(364.2191 - u[ff4]*(61.57037 - \n",
    "                                                                                                                                        u[ff4]*(1.841439 - u[ff4])))))))\n",
    "        p[ff4]= np.real(w4)/(np.sqrt(np.pi)*wD)\n",
    "    return p"
   ]
  },
  {
   "cell_type": "markdown",
   "metadata": {},
   "source": [
    "Функция, считывающая параметры молекулы"
   ]
  },
  {
   "cell_type": "code",
   "execution_count": 5,
   "metadata": {
    "collapsed": true
   },
   "outputs": [],
   "source": [
    "# считывание параметров молекулы\n",
    "def read_molpar16_O3(iso):\n",
    "    if iso==1:\n",
    "        isoN=666\n",
    "        Sn=0.992901\n",
    "        Q296=3483.71\n",
    "        gj=1\n",
    "        molM=47.984745\n",
    "    elif iso==2:\n",
    "        isoN=668\n",
    "        Sn=0.003982\n",
    "        Q296=7465.68\n",
    "        gj=1\n",
    "        molM=49.988991\n",
    "    elif iso==3:\n",
    "        isoN=686\n",
    "        Sn=0.001991\n",
    "        Q296=3647.08\n",
    "        gj=1\n",
    "        molM=49.988991\n",
    "    elif iso==4:\n",
    "        isoN=667\n",
    "        Sn=7.404750E-04\n",
    "        Q296=43330.85\n",
    "        gj=6\n",
    "        molM=48.98896\n",
    "    elif iso==5:\n",
    "        isoN=676\n",
    "        Sn=3.702370E-04\n",
    "        Q296=21404.96\n",
    "        gj=6\n",
    "        molM=48.98896\n",
    "    return isoN, Sn, Q296, gj, molM"
   ]
  },
  {
   "cell_type": "markdown",
   "metadata": {},
   "source": [
    "Функция, считывающая параметры линии поглощения"
   ]
  },
  {
   "cell_type": "code",
   "execution_count": 6,
   "metadata": {
    "collapsed": true
   },
   "outputs": [],
   "source": [
    "def readline(file):\n",
    "    data = scipy.io.loadmat(file) # файл с инфой про линии поглощения для нужного спектрального диапазона\n",
    "    lines = np.ravel(data['lines'])[0]\n",
    "    iso = np.ravel(lines[1]) # массив с номерами изотопов\n",
    "    v = np.ravel(lines[2]) # массив волновых чисел\n",
    "    S = np.ravel(lines[3]) # массив интенсивностей линий\n",
    "    A = np.ravel(lines[4]) # массив коэффициентов Эйнштейна\n",
    "    air = np.ravel(lines[5]) # массив HMHM(air)\n",
    "    self = np.ravel(lines[6]) # массив HWHM(self)\n",
    "    E = np.ravel(lines[7]) # массив энергий нижних состояний\n",
    "    nt = np.ravel(lines[8]) # массив коэффициентов зависимостей air от T\n",
    "    dlt = np.ravel(lines[9]) # массив сдвигов линий\n",
    "    return iso, v, S, A, air, self, E, nt, dlt"
   ]
  },
  {
   "cell_type": "markdown",
   "metadata": {},
   "source": [
    "Функция для подсчёта сечений"
   ]
  },
  {
   "cell_type": "code",
   "execution_count": 11,
   "metadata": {
    "collapsed": true
   },
   "outputs": [],
   "source": [
    "def cross(T, p, w1, w2, isn):\n",
    "    # константы\n",
    "    R = 8.31441 # универсальная газовая постоянная [Дж/(мол*К)]\n",
    "    c = 299792458. # скорость света [м/с]\n",
    "    c2 = 1.438775221 # вторая постоянная Планка [см*к] (c2=hc/kB)\n",
    "    \n",
    "    iso, v, S, A, air, self, E, nt, dlt = readline('03_hit16.mat')\n",
    "    wstep = 0.001 # см^-1\n",
    "    \n",
    "    if p >= 1:\n",
    "        wLim0 = 30. # расширение диапазона\n",
    "    elif (p < 1)&(p >= 0.1):\n",
    "        wLim0 = 25.\n",
    "    elif (p < 0.1)&(p >= 0.01):\n",
    "        wLim0 = 20.\n",
    "    elif (p < 0.01)&(p >= 1e-04):\n",
    "        wLim0 = 15.\n",
    "    elif (p < 1e-04)&(p >= 1e-07):\n",
    "        wLim0 = 10.\n",
    "    elif p < 1e-07:\n",
    "        wLim0 = 5.\n",
    "            \n",
    "    if isn == 100: # номер изотопа (100 - все изотопы)\n",
    "    # фильтрация, оставляем только нужные нам волновые числа\n",
    "        fv = np.where((v >= w1 - wLim0) & (v <= w2 + wLim0))\n",
    "        numiso = int(np.max(iso)) # кол-во изотопов\n",
    "        QQT = np.zeros(numiso) # это Q(T) для каждого изотопа\n",
    "        Sn=np.zeros(numiso) # это распространенность изотопа в атмосфере\n",
    "        Q296=np.zeros(numiso) # это Q(296 К) для каждого изотопа\n",
    "        mu=np.zeros(numiso) # это молярная масса каждого изотопа [г/моль]\n",
    "        for i in range(numiso): \n",
    "            isoN1, Sn1, Q296_1, gj1, mu1 = read_molpar16_O3(i + 1)\n",
    "            Sn[i]=Sn1\n",
    "            Q296[i]=Q296_1\n",
    "            mu[i]=mu1\n",
    "        QQT = do_Qt16_O3(T)\n",
    "    else:\n",
    "        fv = np.where((v >= w1 - wLim0) & (v <= w2 + wLim0) & (iso == isn))\n",
    "        QQT0_arr = do_Qt16_O3(T)\n",
    "        QQT0 = QQT0_arr[isn - 1]\n",
    "        isoN0, Sn0, Q0, gj0, mu0 = read_molpar16_O3(isn)\n",
    "            \n",
    "    iso = iso[fv]\n",
    "    v = v[fv]\n",
    "    S = S[fv]\n",
    "    A = A[fv]\n",
    "    air = air[fv]\n",
    "    self = self[fv]\n",
    "    E = E[fv]\n",
    "    nt = nt[fv]\n",
    "    dlt = dlt[fv]\n",
    "    nW = len(v) # кол-во волновых чисел\n",
    "        \n",
    "    # сетка\n",
    "    wGas = np.arange(w1 - wLim0, w2 + wLim0, wstep)\n",
    "    nG = len(wGas)  # размер сетки\n",
    "    # если массив волновых чисел в итоге пуст, то cGas = ...\n",
    "    if v.size == 0:\n",
    "        cGas = (1.0e-150)*np.ones(nG)\n",
    "        \n",
    "    # сортировка массивов по возрастанию v\n",
    "    ix = np.argsort(v)\n",
    "    v = np.take(v, ix)\n",
    "    iso = np.take(iso, ix)\n",
    "    S = np.take(S, ix)\n",
    "    A = np.take(A, ix)\n",
    "    air = np.take(air, ix)\n",
    "    self = np.take(self, ix)\n",
    "    E = np.take(E, ix)\n",
    "    nt = np.take(nt, ix)\n",
    "    dlt = np.take(dlt, ix)\n",
    "    # убираем повторение v(j)\n",
    "    if nW > 1:\n",
    "        # прогоняем один раз\n",
    "        dv = v[1:len(v)] - v[0:len(v) - 1] # массив\n",
    "        for i in range(len(dv)):\n",
    "            if dv[i] < 5e-07:\n",
    "                dv[i] = 5e-07\n",
    "        for j in range(1, len(v)):\n",
    "                v[j] = v[j - 1] + dv[j - 1]\n",
    "        # прогоняем второй раз\n",
    "        dv = v[1:len(v)] - v[0:len(v) - 1]\n",
    "        for i in range(len(dv)):\n",
    "            if dv[i] < 5e-08:\n",
    "                dv[i] = 5e-08\n",
    "        for j in range(1, len(v)):\n",
    "            v[j] = v[j - 1] + dv[j - 1]\n",
    "    \n",
    "    wL = np.empty(nW)\n",
    "    for g in range(nW):\n",
    "        wL[g] = 1.5*air[g]*(p/1013.)*((296./T)**nt[g]) # уширение за счет столкновений [см^-1]\n",
    "    cGas = (1.0e-150)*np.ones(nG)\n",
    "    S0 = np.zeros(nW)\n",
    "    for g in range(nW):\n",
    "        if isn == 100:\n",
    "            dQ = Q296[int(iso[g])-1]/QQT[int(iso[g])-1] # отношение Q296/Q(T)\n",
    "            wD = np.sqrt(2*1000*R*T/mu[int(iso[g])-1])*v[g]/c # Доплеровское уширение\n",
    "            Rn=1.0\n",
    "        else:\n",
    "            dQ = Q0/QQT0 # отношение Q296/Q(T)\n",
    "            wD = np.sqrt(2*1000*R*T/mu0)*v[g]/c\n",
    "            Rn = 1/Sn0 # нормировка\n",
    "            \n",
    "        # подсчёт S(T)\n",
    "        St = Rn*S[g]*dQ*np.exp(c2*E[g]*((1/296.) - (1/T)))*(1 - np.exp(-c2*v[g]/T))/(1 - np.exp(-c2*v[g]/296.))\n",
    "        wLim = 10.\n",
    "        wFind = np.where((wGas >= v[g] - wLim) & (wGas <= v[g] + wLim))\n",
    "        wLine = wGas[wFind]\n",
    "\n",
    "        fV = (1.0e-150)*np.ones(nG)\n",
    "        fV0 = contur_Humlicek(wLine, v[g], wL[g], wD)\n",
    "        fV[wFind] = St*fV0\n",
    "        cGas = cGas + fV\n",
    "        \n",
    "    cGas = cGas[np.where((wGas >= w1) & (wGas <= w2))]\n",
    "    wGas = wGas[np.where((wGas >= w1) & (wGas <= w2))]\n",
    "    return cGas, wGas"
   ]
  },
  {
   "cell_type": "code",
   "execution_count": 8,
   "metadata": {
    "collapsed": true
   },
   "outputs": [],
   "source": [
    "# профили T, p \n",
    "data1 = scipy.io.loadmat('pos12_SEC_Tp_co2_0-100km_3155-3220cm-1.mat')\n",
    "T = np.ravel(data1['temp'])\n",
    "P = np.ravel(data1['pres'])\n",
    "alt = np.ravel(data1['alt'])"
   ]
  },
  {
   "cell_type": "code",
   "execution_count": 9,
   "metadata": {
    "collapsed": true
   },
   "outputs": [],
   "source": [
    "data_custom = dict.fromkeys(['SECmat_o3', 'alt', 'pres', 'temp', 'wGas'])\n",
    "data_custom['alt'] = alt\n",
    "data_custom['pres'] = P\n",
    "data_custom['temp'] = T"
   ]
  },
  {
   "cell_type": "code",
   "execution_count": 12,
   "metadata": {},
   "outputs": [
    {
     "name": "stdout",
     "output_type": "stream",
     "text": [
      "0 [  8.23470501e-31   7.55723963e-31   7.05397110e-31 ...,   1.82566402e-28\n",
      "   4.67246000e-28   2.02794113e-27]\n",
      "1 [  1.48318958e-30   1.35924330e-30   1.26731039e-30 ...,   3.05731935e-28\n",
      "   6.63470172e-28   2.55475432e-27]\n",
      "2 [  2.90746911e-30   2.66223927e-30   2.48052161e-30 ...,   5.56733162e-28\n",
      "   9.79838977e-28   3.13177516e-27]\n",
      "3 [  5.84795052e-30   5.34104752e-30   4.96733376e-30 ...,   1.06501861e-27\n",
      "   1.75054954e-27   5.00752545e-27]\n",
      "4 [  1.08434519e-29   9.88257269e-30   9.18006757e-30 ...,   1.88494149e-27\n",
      "   3.08983462e-27   8.43033364e-27]\n",
      "5 [  2.02130431e-29   1.84118348e-29   1.71019230e-29 ...,   3.32512049e-27\n",
      "   4.98790960e-27   1.19561925e-26]\n",
      "6 [  3.80630768e-29   3.46682003e-29   3.22066537e-29 ...,   5.97447144e-27\n",
      "   8.02368114e-27   1.61053145e-26]\n",
      "7 [  6.61196512e-29   6.02229851e-29   5.59523969e-29 ...,   1.00930709e-26\n",
      "   1.24809253e-26   2.12513170e-26]\n",
      "8 [  1.15633025e-28   1.05322300e-28   9.78549419e-29 ...,   1.73837008e-26\n",
      "   2.01908273e-26   2.94768930e-26]\n",
      "9 [  2.13801022e-28   1.94744430e-28   1.80908176e-28 ...,   3.22448008e-26\n",
      "   3.56895283e-26   4.51745869e-26]\n",
      "10 [  3.69771734e-28   3.36883297e-28   3.12907905e-28 ...,   5.67695055e-26\n",
      "   6.12956724e-26   7.11906350e-26]\n",
      "11 [  6.24532213e-28   5.69357628e-28   5.28930302e-28 ...,   9.87740132e-26\n",
      "   1.05310076e-25   1.16465492e-25]\n",
      "12 [  1.20004853e-27   1.09489923e-27   1.01758279e-27 ...,   1.94173352e-25\n",
      "   2.05847176e-25   2.22175052e-25]\n",
      "13 [  2.20405677e-27   2.01156168e-27   1.86986493e-27 ...,   3.59255448e-25\n",
      "   3.80119124e-25   4.06685067e-25]\n",
      "14 [  3.94873172e-27   3.60144474e-27   3.34643777e-27 ...,   6.32488294e-25\n",
      "   6.68741344e-25   7.13254097e-25]\n",
      "15 [  8.24224969e-27   7.50781594e-27   6.97416729e-27 ...,   1.23530324e-24\n",
      "   1.30561660e-24   1.39100596e-24]\n",
      "16 [  1.60777340e-26   1.46607760e-26   1.36502681e-26 ...,   2.18468413e-24\n",
      "   2.30870398e-24   2.45948504e-24]\n",
      "17 [  2.99642195e-26   2.74732785e-26   2.57546621e-26 ...,   3.54405611e-24\n",
      "   3.74579659e-24   3.99320396e-24]\n",
      "18 [  6.04849547e-26   5.60154224e-26   5.30899130e-26 ...,   6.04993039e-24\n",
      "   6.39456663e-24   6.81652819e-24]\n",
      "19 [  1.20527987e-25   1.13441840e-25   1.09283700e-25 ...,   9.51547247e-24\n",
      "   1.00613182e-23   1.07307701e-23]\n",
      "20 [  2.40365726e-25   2.30948218e-25   2.26794802e-25 ...,   1.37572930e-23\n",
      "   1.45583587e-23   1.55432615e-23]\n"
     ]
    }
   ],
   "source": [
    "for i in range(len(P)):\n",
    "    cGas_, wGas = cross(T[i], P[i], 2900, 3200, 100)\n",
    "    if (i == 0):\n",
    "        cGas = np.empty(len(cGas_))\n",
    "    # создание матрицы сечений\n",
    "    cGas = np.row_stack((cGas, cGas_))\n",
    "    print(i, cGas_)\n",
    "data_custom['wGas'] = wGas\n",
    "data_custom['SECmat_o3'] = cGas\n",
    "scipy.io.savemat('secmat_o3.mat', data_custom)"
   ]
  }
 ],
 "metadata": {
  "kernelspec": {
   "display_name": "Python 3",
   "language": "python",
   "name": "python3"
  },
  "language_info": {
   "codemirror_mode": {
    "name": "ipython",
    "version": 3
   },
   "file_extension": ".py",
   "mimetype": "text/x-python",
   "name": "python",
   "nbconvert_exporter": "python",
   "pygments_lexer": "ipython3",
   "version": "3.6.1"
  }
 },
 "nbformat": 4,
 "nbformat_minor": 2
}
