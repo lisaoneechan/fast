{
 "cells": [
  {
   "cell_type": "code",
   "execution_count": 1,
   "metadata": {
    "collapsed": true
   },
   "outputs": [],
   "source": [
    "import scipy.io\n",
    "import scipy.signal\n",
    "import numpy as np\n",
    "import decimal\n",
    "import pickle\n",
    "from matplotlib import pyplot as plt\n",
    "from matplotlib import rcParams"
   ]
  },
  {
   "cell_type": "markdown",
   "metadata": {},
   "source": [
    "Простая линейная интерполяция"
   ]
  },
  {
   "cell_type": "code",
   "execution_count": 2,
   "metadata": {
    "collapsed": true
   },
   "outputs": [],
   "source": [
    "def interpol(P, P_new, sec):\n",
    "    P = np.ravel(np.sort(P))\n",
    "    P_new = np.sort(P_new)\n",
    "    sec_new = np.zeros(len(P_new))\n",
    "    for i in range(len(P_new)):\n",
    "        t = np.where(P <= P_new[i])\n",
    "        k = np.where(P >= P_new[i])\n",
    "        if ((len(np.ravel(t)) != 0)&(len(np.ravel(k)) != 0)):\n",
    "            floor = np.max(t)\n",
    "            ceil = np.min(k)\n",
    "            if (floor == ceil):\n",
    "                sec_new[i] = sec[floor]\n",
    "            else:\n",
    "                sec_new[i] = sec[floor] + (sec[ceil] - sec[floor])*(P_new[i] - P[floor])/(P[ceil] - P[floor])\n",
    "        else:\n",
    "            floor = np.max(np.where(P <= P_new[i]))\n",
    "            sec_new[i] = sec[floor]\n",
    "    return P_new, sec_new"
   ]
  },
  {
   "cell_type": "markdown",
   "metadata": {},
   "source": [
    "Чтение файла с климатом из MCD"
   ]
  },
  {
   "cell_type": "code",
   "execution_count": 3,
   "metadata": {
    "collapsed": true,
    "scrolled": true
   },
   "outputs": [],
   "source": [
    "data = np.loadtxt('climate.txt')\n",
    "alt_new = data[:int(len(data)/4), 0] # h [м]\n",
    "T_new = data[:int(len(data)/4), 1] # T [К]\n",
    "P_new = data[int(len(data)/4):int(len(data)/2), 1] # P [Па]\n",
    "WVMR = data[int(len(data)/2):int(3*len(data)/4), 1] # water vapor volume mixing ratio [mol/mol]\n",
    "OzVMR = data[int(3*len(data)/4):int(len(data)), 1] # ozone volume mixing ratio [mol/mol]"
   ]
  },
  {
   "cell_type": "markdown",
   "metadata": {},
   "source": [
    "Чтение файла с изначальными сечениями"
   ]
  },
  {
   "cell_type": "code",
   "execution_count": 4,
   "metadata": {
    "collapsed": true
   },
   "outputs": [],
   "source": [
    "data1 = scipy.io.loadmat('secmat_o3.mat') # здесь может быть не только о3, но и любой другой газ\n",
    "data1['SECmat_o3'] = np.delete(data1['SECmat_o3'], (0), axis=0)\n",
    "alt = data1['alt']*10**3\n",
    "T = data1['temp']\n",
    "P = data1['pres']*10**2 # P [Па]\n",
    "sec = data1['SECmat_o3']"
   ]
  },
  {
   "cell_type": "markdown",
   "metadata": {},
   "source": [
    "Создаем массив из новых сечений"
   ]
  },
  {
   "cell_type": "code",
   "execution_count": null,
   "metadata": {
    "collapsed": true
   },
   "outputs": [],
   "source": [
    "sec_new_all = np.zeros(sec.shape[0])\n",
    "for j in range(sec.shape[1]):\n",
    "    alt_new, sec_new = interpol(P, P_new, sec[:, j])\n",
    "    if (j == 0):\n",
    "        sec_new_all = sec_new\n",
    "    else:\n",
    "        sec_new_all = np.column_stack((sec_new_all, sec_new))"
   ]
  },
  {
   "cell_type": "markdown",
   "metadata": {},
   "source": [
    "Создание нового mat-файла"
   ]
  },
  {
   "cell_type": "code",
   "execution_count": 13,
   "metadata": {},
   "outputs": [],
   "source": [
    "data_custom = dict.fromkeys(['sec_new', 'alt', 'pres', 'temp', 'wGas', 'VMR'])\n",
    "data_custom['alt'] = np.flip(alt_new, axis = 0)\n",
    "data_custom['pres'] = np.flip(P_new, axis = 0)\n",
    "data_custom['temp'] = np.flip(T_new, axis = 0)\n",
    "data_custom['wGas'] = data1['wGas']\n",
    "data_custom['sec_new'] = sec_new_all\n",
    "data_custom['VMR'] = np.flip(OzVMR, axis = 0) # озон или вода"
   ]
  },
  {
   "cell_type": "code",
   "execution_count": 14,
   "metadata": {},
   "outputs": [
    {
     "data": {
      "text/plain": [
       "{'VMR': array([  7.77079000e-09,   1.02697000e-08,   1.29220000e-08,\n",
       "          1.56176000e-08,   2.04302000e-08,   2.55181000e-08,\n",
       "          2.98094000e-08,   3.29455000e-08,   3.30289000e-08,\n",
       "          3.33978000e-08,   3.40060000e-08,   3.24739000e-08,\n",
       "          3.03957000e-08,   2.93026000e-08,   2.82394000e-08,\n",
       "          2.68184000e-08,   2.53976000e-08,   2.39788000e-08,\n",
       "          2.29140000e-08,   2.32692000e-08,   1.93387000e-08,\n",
       "          9.88210000e-09,   4.94196000e-09,   2.01735000e-09,\n",
       "          1.34870000e-09,   1.26611000e-09,   1.42455000e-09,\n",
       "          1.76421000e-09,   2.22660000e-09,   2.75845000e-09,\n",
       "          3.40708000e-09,   4.29922000e-09,   5.16127000e-09,\n",
       "          5.68396000e-09,   6.05255000e-09]),\n",
       " 'alt': array([  7.50297000e+02,   5.78351000e+02,   4.46338000e+02,\n",
       "          3.43340000e+02,   2.62284000e+02,   1.98377000e+02,\n",
       "          1.48262000e+02,   1.09421000e+02,   7.98830000e+01,\n",
       "          5.79103000e+01,   4.18373000e+01,   3.02158000e+01,\n",
       "          2.18537000e+01,   1.58213000e+01,   1.14733000e+01,\n",
       "          8.31800000e+00,   6.02924000e+00,   4.35543000e+00,\n",
       "          3.14364000e+00,   2.24871000e+00,   1.60716000e+00,\n",
       "          1.12860000e+00,   7.91244000e-01,   5.41232000e-01,\n",
       "          3.68650000e-01,   2.46960000e-01,   1.65147000e-01,\n",
       "          1.10205000e-01,   7.39388000e-02,   4.97082000e-02,\n",
       "          3.39316000e-02,   2.32175000e-02,   1.60837000e-02,\n",
       "          1.11283000e-02,   7.66643000e-03]),\n",
       " 'pres': array([  7.66643000e-03,   1.11283000e-02,   1.60837000e-02,\n",
       "          2.32175000e-02,   3.39316000e-02,   4.97082000e-02,\n",
       "          7.39388000e-02,   1.10205000e-01,   1.65147000e-01,\n",
       "          2.46960000e-01,   3.68650000e-01,   5.41232000e-01,\n",
       "          7.91244000e-01,   1.12860000e+00,   1.60716000e+00,\n",
       "          2.24871000e+00,   3.14364000e+00,   4.35543000e+00,\n",
       "          6.02924000e+00,   8.31800000e+00,   1.14733000e+01,\n",
       "          1.58213000e+01,   2.18537000e+01,   3.02158000e+01,\n",
       "          4.18373000e+01,   5.79103000e+01,   7.98830000e+01,\n",
       "          1.09421000e+02,   1.48262000e+02,   1.98377000e+02,\n",
       "          2.62284000e+02,   3.43340000e+02,   4.46338000e+02,\n",
       "          5.78351000e+02,   7.50297000e+02]),\n",
       " 'sec_new': array([[  8.56693571e-31,   7.86116846e-31,   7.33694736e-31, ...,\n",
       "           1.88768946e-28,   4.77127735e-28,   2.05447114e-27],\n",
       "        [  1.26106002e-30,   1.15603637e-30,   1.07811236e-30, ...,\n",
       "           2.64261699e-28,   5.97400854e-28,   2.37737460e-27],\n",
       "        [  1.84057022e-30,   1.68619143e-30,   1.57172971e-30, ...,\n",
       "           3.68713237e-28,   7.42853526e-28,   2.69954056e-27],\n",
       "        ..., \n",
       "        [  1.05857997e-25,   9.94111530e-26,   9.55541744e-26, ...,\n",
       "           8.66875524e-24,   9.16544055e-24,   9.77442443e-24],\n",
       "        [  1.62055206e-25,   1.54161176e-25,   1.50004672e-25, ...,\n",
       "           1.09853851e-23,   1.16196719e-23,   1.23984366e-23],\n",
       "        [  2.40365726e-25,   2.30948218e-25,   2.26794802e-25, ...,\n",
       "           1.37572930e-23,   1.45583587e-23,   1.55432615e-23]]),\n",
       " 'temp': array([ 144.859,  148.369,  148.81 ,  148.388,  145.257,  141.806,\n",
       "         140.212,  138.621,  137.039,  137.695,  140.227,  145.611,\n",
       "         151.724,  157.399,  162.993,  166.71 ,  170.29 ,  172.441,\n",
       "         174.381,  175.481,  175.959,  175.634,  174.995,  174.387,\n",
       "         174.053,  174.975,  178.125,  184.031,  192.106,  200.672,\n",
       "         209.205,  216.577,  220.881,  222.818,  194.422]),\n",
       " 'wGas': array([[ 2900.00000001,  2900.00100001,  2900.00200001, ...,\n",
       "          3199.99700007,  3199.99800007,  3199.99900007]])}"
      ]
     },
     "execution_count": 14,
     "metadata": {},
     "output_type": "execute_result"
    }
   ],
   "source": [
    "data_custom"
   ]
  },
  {
   "cell_type": "code",
   "execution_count": 15,
   "metadata": {},
   "outputs": [
    {
     "data": {
      "text/plain": [
       "{'SECmat_o3': array([[  8.23470501e-31,   7.55723963e-31,   7.05397110e-31, ...,\n",
       "           1.82566402e-28,   4.67246000e-28,   2.02794113e-27],\n",
       "        [  1.48318958e-30,   1.35924330e-30,   1.26731039e-30, ...,\n",
       "           3.05731935e-28,   6.63470172e-28,   2.55475432e-27],\n",
       "        [  2.90746911e-30,   2.66223927e-30,   2.48052161e-30, ...,\n",
       "           5.56733162e-28,   9.79838977e-28,   3.13177516e-27],\n",
       "        ..., \n",
       "        [  6.04849547e-26,   5.60154224e-26,   5.30899130e-26, ...,\n",
       "           6.04993039e-24,   6.39456663e-24,   6.81652819e-24],\n",
       "        [  1.20527987e-25,   1.13441840e-25,   1.09283700e-25, ...,\n",
       "           9.51547247e-24,   1.00613182e-23,   1.07307701e-23],\n",
       "        [  2.40365726e-25,   2.30948218e-25,   2.26794802e-25, ...,\n",
       "           1.37572930e-23,   1.45583587e-23,   1.55432615e-23]]),\n",
       " '__globals__': [],\n",
       " '__header__': b'MATLAB 5.0 MAT-file Platform: nt, Created on: Thu Oct 17 08:41:50 2019',\n",
       " '__version__': '1.0',\n",
       " 'alt': array([[ 100.,   95.,   90.,   85.,   80.,   75.,   70.,   65.,   60.,\n",
       "           55.,   50.,   45.,   40.,   35.,   30.,   25.,   20.,   15.,\n",
       "           10.,    5.,    0.]]),\n",
       " 'pres': array([[  7.38200000e-05,   1.30300000e-04,   2.52000000e-04,\n",
       "           4.83300000e-04,   8.41400000e-04,   1.51300000e-03,\n",
       "           2.79500000e-03,   4.81600000e-03,   8.41400000e-03,\n",
       "           1.57800000e-02,   2.79600000e-02,   4.89000000e-02,\n",
       "           9.65000000e-02,   1.78800000e-01,   3.14100000e-01,\n",
       "           6.10200000e-01,   1.07800000e+00,   1.76000000e+00,\n",
       "           3.04800000e+00,   4.92100000e+00,   7.41000000e+00]]),\n",
       " 'temp': array([[ 143.2,  145.3,  146.7,  151.6,  158. ,  161.6,  163.5,  164.3,\n",
       "          164.4,  163. ,  160.6,  157.1,  154.4,  153.5,  155.5,  162.7,\n",
       "          172.3,  184.4,  197.4,  213.8,  234. ]]),\n",
       " 'wGas': array([[ 2900.00000001,  2900.00100001,  2900.00200001, ...,\n",
       "          3199.99700007,  3199.99800007,  3199.99900007]])}"
      ]
     },
     "execution_count": 15,
     "metadata": {},
     "output_type": "execute_result"
    }
   ],
   "source": [
    "data1"
   ]
  },
  {
   "cell_type": "code",
   "execution_count": 16,
   "metadata": {
    "collapsed": true
   },
   "outputs": [],
   "source": [
    "scipy.io.savemat('secmat_o3_climate.mat', data_custom)"
   ]
  }
 ],
 "metadata": {
  "kernelspec": {
   "display_name": "Python 3",
   "language": "python",
   "name": "python3"
  },
  "language_info": {
   "codemirror_mode": {
    "name": "ipython",
    "version": 3
   },
   "file_extension": ".py",
   "mimetype": "text/x-python",
   "name": "python",
   "nbconvert_exporter": "python",
   "pygments_lexer": "ipython3",
   "version": "3.6.1"
  }
 },
 "nbformat": 4,
 "nbformat_minor": 2
}
