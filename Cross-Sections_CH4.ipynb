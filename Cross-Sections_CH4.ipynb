{
 "cells": [
  {
   "cell_type": "code",
   "execution_count": 1,
   "metadata": {
    "collapsed": true
   },
   "outputs": [],
   "source": [
    "import scipy.io\n",
    "import numpy as np\n",
    "import decimal\n",
    "import pickle\n",
    "from matplotlib import pyplot as plt\n",
    "from matplotlib import rcParams"
   ]
  },
  {
   "cell_type": "code",
   "execution_count": 2,
   "metadata": {
    "collapsed": true
   },
   "outputs": [],
   "source": [
    "rcParams['figure.figsize'] = (20, 12)\n",
    "rcParams.update({'font.size': 16})"
   ]
  },
  {
   "cell_type": "markdown",
   "metadata": {},
   "source": [
    "Функция, которая считает Q(T)"
   ]
  },
  {
   "cell_type": "code",
   "execution_count": 3,
   "metadata": {
    "collapsed": true
   },
   "outputs": [],
   "source": [
    "def do_Qt16_CH4(T):\n",
    "    mol = 6\n",
    "    Q_arr = np.zeros(4)\n",
    "    for iso in range(1, 5):\n",
    "        mol = str(mol)\n",
    "        iso = str(iso)\n",
    "        file = 'QTpy/'+mol+'_'+iso+'.QTpy'\n",
    "\n",
    "        QTdict = {}\n",
    "        with open(file, 'rb') as handle:\n",
    "            QTdict = pickle.loads(handle.read())\n",
    "        if(T==int(T)):\n",
    "            key=str(int(T))\n",
    "            Q = QTdict[key]\n",
    "        else:\n",
    "            key=str(int(T))\n",
    "            Q1 = float(QTdict[key])\n",
    "            key=str(int(T+1))\n",
    "            Q2 = float(QTdict[key])\n",
    "            QT = Q1+(Q2-Q1)*(T-int(T))\n",
    "            Q = QT\n",
    "        Q_arr[int(iso) - 1] = Q\n",
    "    return Q_arr"
   ]
  },
  {
   "cell_type": "markdown",
   "metadata": {},
   "source": [
    "Функция, которая считает контур Фойгта вокруг точки w0"
   ]
  },
  {
   "cell_type": "code",
   "execution_count": 4,
   "metadata": {
    "collapsed": true
   },
   "outputs": [],
   "source": [
    "def contur_Humlicek(w, w0, wL0, wD):\n",
    "    y = wL0/wD\n",
    "    x = np.zeros(len(w))\n",
    "    for i in range(len(w)):\n",
    "        x[i] = (w[i]-w0)/wD\n",
    "    t = np.zeros(len(w), dtype=np.complex_)\n",
    "    for i in range(len(w)):\n",
    "        t[i] = y - 1j*x[i]\n",
    "    u = np.zeros(len(x), dtype=np.complex_)\n",
    "    for i in range(len(x)):\n",
    "        u[i] = t[i]*t[i]\n",
    "    s = np.abs(x) + y    \n",
    "    p = (1e-150)*np.ones(len(w))\n",
    "    \n",
    "    ff1 = np.where(s >= 15) # region 1 (s>=15)\n",
    "    if len(ff1) != 0:\n",
    "        w4 = t[ff1]*0.5641896/(0.5 + u[ff1])\n",
    "        p[ff1] = np.real(w4)/(np.sqrt(np.pi)*wD)\n",
    "    \n",
    "    ff2 = np.where((s<15)&(s>=5.5)) # region 2 (5.5<=s<15)\n",
    "    if len(ff2) != 0:\n",
    "        w4 = t[ff2]*(1.410474+u[ff2]*0.5641896)/(0.75+u[ff2]*(3.0+u[ff2]))\n",
    "        p[ff2] = np.real(w4)/(np.sqrt(np.pi)*wD)\n",
    "    \n",
    "    ff3 = np.where((s<5.5) & (y>=0.195*np.abs(x)-0.176)) # region 3 (s<5.5, y>=0.195*abs(x)-0.176)\n",
    "    if len(ff3) != 0:\n",
    "        w4 = (16.4955 + t[ff3]*20.20933 + u[ff3]*11.96482 + t[ff3]*u[ff3]*3.778987 + \n",
    "              u[ff3]*u[ff3]*0.5642236)/(16.4955 + t[ff3]*38.82363 + \n",
    "                                                              u[ff3]*39.27121 + t[ff3]*u[ff3]*21.69274 + \n",
    "                                                              u[ff3]*u[ff3]*6.699398 + t[ff3]*u[ff3]*u[ff3])\n",
    "        p[ff3] = np.real(w4)/(np.sqrt(np.pi)*wD)\n",
    "    \n",
    "    ff4 = np.where((s<5.5) & (y<0.195*np.abs(x)-0.176)) # region 4 (s<5.5, y<0.195*abs(x)-0.176)\n",
    "    if len(ff4) != 0:\n",
    "        w4 = np.exp(u[ff4]) - t[ff4]*(36183.31 - u[ff4]*(3321.9905 - u[ff4]*(1540.787 - \n",
    "                                                                             u[ff4]*(219.0313 - u[ff4]*(35.76683 - \n",
    "                                                                                                        u[ff4]*(1.320522 - u[ff4]*0.56419))))))/(32066.6 - u[ff4]*(24322.84 - \n",
    "                                                                                                                                        u[ff4]*(9022.228 - u[ff4]*(2186.181 - \n",
    "                                                                                                                                        u[ff4]*(364.2191 - u[ff4]*(61.57037 - \n",
    "                                                                                                                                        u[ff4]*(1.841439 - u[ff4])))))))\n",
    "        p[ff4]= np.real(w4)/(np.sqrt(np.pi)*wD)\n",
    "    return p"
   ]
  },
  {
   "cell_type": "markdown",
   "metadata": {},
   "source": [
    "Функция, считывающая параметры молекулы"
   ]
  },
  {
   "cell_type": "code",
   "execution_count": 5,
   "metadata": {
    "collapsed": true
   },
   "outputs": [],
   "source": [
    "# считывание параметров молекулы\n",
    "def read_molpar16_CH4(iso):\n",
    "    if iso==1:\n",
    "        isoN=211\n",
    "        Sn=9.88274E-01\n",
    "        Q296=5.9048E+02\n",
    "        gj=1\n",
    "        molM=16.031300\n",
    "    elif iso==2:\n",
    "        isoN=311\n",
    "        Sn=1.11031E-02\n",
    "        Q296=1.1808E+03\n",
    "        gj=2\n",
    "        molM=17.034655\n",
    "    elif iso==3:\n",
    "        isoN=212\n",
    "        Sn=6.15751E-04\n",
    "        Q296=4.7947E+03\n",
    "        gj=3\n",
    "        molM=17.037475\n",
    "    elif iso==4:\n",
    "        isoN=312\n",
    "        Sn=6.91785E-06\n",
    "        Q296=9.5992E+03\n",
    "        gj=6\n",
    "        molM=18.040830\n",
    "    return isoN, Sn, Q296, gj, molM"
   ]
  },
  {
   "cell_type": "markdown",
   "metadata": {},
   "source": [
    "Функция, считывающая параметры линии поглощения"
   ]
  },
  {
   "cell_type": "code",
   "execution_count": 6,
   "metadata": {
    "collapsed": true
   },
   "outputs": [],
   "source": [
    "def readline(file):\n",
    "    data = scipy.io.loadmat(file) # файл с инфой про линии поглощения для нужного спектрального диапазона\n",
    "    lines = np.ravel(data['lines'])[0]\n",
    "    iso = np.ravel(lines[1]) # массив с номерами изотопов\n",
    "    v = np.ravel(lines[2]) # массив волновых чисел\n",
    "    S = np.ravel(lines[3]) # массив интенсивностей линий\n",
    "    A = np.ravel(lines[4]) # массив коэффициентов Эйнштейна\n",
    "    air = np.ravel(lines[5]) # массив HMHM(air)\n",
    "    self = np.ravel(lines[6]) # массив HWHM(self)\n",
    "    E = np.ravel(lines[7]) # массив энергий нижних состояний\n",
    "    nt = np.ravel(lines[8]) # массив коэффициентов зависимостей air от T\n",
    "    dlt = np.ravel(lines[9]) # массив сдвигов линий\n",
    "    # удаляет все NaN\n",
    "    ff = np.where(np.isnan(iso) == 0)\n",
    "    iso = iso[ff]\n",
    "    v = v[ff]\n",
    "    S = S[ff]\n",
    "    A = A[ff]\n",
    "    air = air[ff]\n",
    "    self = self[ff]\n",
    "    E = E[ff]\n",
    "    nt = nt[ff]\n",
    "    dlt = dlt[ff]\n",
    "    # ff -- это массив индексов, на которых не содержится NaN в массиве iso\n",
    "    return iso, v, S, A, air, self, E, nt, dlt"
   ]
  },
  {
   "cell_type": "markdown",
   "metadata": {},
   "source": [
    "Функция для подсчёта сечений"
   ]
  },
  {
   "cell_type": "code",
   "execution_count": 7,
   "metadata": {
    "collapsed": true
   },
   "outputs": [],
   "source": [
    "def cross(T, p, w1, w2, isn):\n",
    "    # константы\n",
    "    R = 8.31441 # универсальная газовая постоянная [Дж/(мол*К)]\n",
    "    c = 299792458. # скорость света [м/с]\n",
    "    c2 = 1.438775221 # вторая постоянная Планка [см*к] (c2=hc/kB)\n",
    "    \n",
    "    iso, v, S, A, air, self, E, nt, dlt = readline('06_hit16.mat')\n",
    "    wstep = 0.001 # см^-1\n",
    "    \n",
    "    if p >= 1:\n",
    "        wLim0 = 30. # расширение диапазона\n",
    "    elif (p < 1)&(p >= 0.1):\n",
    "        wLim0 = 25.\n",
    "    elif (p < 0.1)&(p >= 0.01):\n",
    "        wLim0 = 20.\n",
    "    elif (p < 0.01)&(p >= 1e-04):\n",
    "        wLim0 = 15.\n",
    "    elif (p < 1e-04)&(p >= 1e-07):\n",
    "        wLim0 = 10.\n",
    "    elif p < 1e-07:\n",
    "        wLim0 = 5.\n",
    "            \n",
    "    if isn == 100: # номер изотопа (100 - все изотопы)\n",
    "    # фильтрация, оставляем только нужные нам волновые числа\n",
    "        fv = np.where((v >= w1 - wLim0) & (v <= w2 + wLim0))\n",
    "        numiso = int(np.max(iso)) # кол-во изотопов\n",
    "        QQT = np.zeros(numiso) # это Q(T) для каждого изотопа\n",
    "        Sn=np.zeros(numiso) # это распространенность изотопа в атмосфере\n",
    "        Q296=np.zeros(numiso) # это Q(296 К) для каждого изотопа\n",
    "        mu=np.zeros(numiso) # это молярная масса каждого изотопа [г/моль]\n",
    "        for i in range(numiso): \n",
    "            isoN1, Sn1, Q296_1, gj1, mu1 = read_molpar16_CH4(i + 1)\n",
    "            Sn[i]=Sn1\n",
    "            Q296[i]=Q296_1\n",
    "            mu[i]=mu1\n",
    "        QQT = do_Qt16_CH4(T)\n",
    "    else:\n",
    "        fv = np.where((v >= w1 - wLim0) & (v <= w2 + wLim0) & (iso == isn))\n",
    "        QQT0_arr = do_Qt16_CH4(T)\n",
    "        QQT0 = QQT0_arr[isn - 1]\n",
    "        isoN0, Sn0, Q0, gj0, mu0 = read_molpar16_CH4(isn)\n",
    "            \n",
    "    iso = iso[fv]\n",
    "    v = v[fv]\n",
    "    S = S[fv]\n",
    "    A = A[fv]\n",
    "    air = air[fv]\n",
    "    self = self[fv]\n",
    "    E = E[fv]\n",
    "    nt = nt[fv]\n",
    "    dlt = dlt[fv]\n",
    "    nW = len(v) # кол-во волновых чисел\n",
    "        \n",
    "    # сетка\n",
    "    wGas = np.arange(w1 - wLim0, w2 + wLim0, wstep)\n",
    "    nG = len(wGas)  # размер сетки\n",
    "    # если массив волновых чисел в итоге пуст, то cGas = ...\n",
    "    if v.size == 0:\n",
    "        cGas = (1.0e-150)*np.ones(nG)\n",
    "        \n",
    "    # сортировка массивов по возрастанию v\n",
    "    ix = np.argsort(v)\n",
    "    v = np.take(v, ix)\n",
    "    iso = np.take(iso, ix)\n",
    "    S = np.take(S, ix)\n",
    "    A = np.take(A, ix)\n",
    "    air = np.take(air, ix)\n",
    "    self = np.take(self, ix)\n",
    "    E = np.take(E, ix)\n",
    "    nt = np.take(nt, ix)\n",
    "    dlt = np.take(dlt, ix)\n",
    "    # убираем повторение v(j)\n",
    "    if nW > 1:\n",
    "        # прогоняем один раз\n",
    "        dv = v[1:len(v)] - v[0:len(v) - 1] # массив\n",
    "        for i in range(len(dv)):\n",
    "            if dv[i] < 5e-07:\n",
    "                dv[i] = 5e-07\n",
    "        for j in range(1, len(v)):\n",
    "                v[j] = v[j - 1] + dv[j - 1]\n",
    "        # прогоняем второй раз\n",
    "        dv = v[1:len(v)] - v[0:len(v) - 1]\n",
    "        for i in range(len(dv)):\n",
    "            if dv[i] < 5e-08:\n",
    "                dv[i] = 5e-08\n",
    "        for j in range(1, len(v)):\n",
    "            v[j] = v[j - 1] + dv[j - 1]\n",
    "        \n",
    "    wL = 1.5*air*(p/1013.)*((296./T)**nt) # уширение за счет столкновений [см^-1]\n",
    "    cGas = (1.0e-150)*np.ones(nG)\n",
    "    S0 = np.zeros(nW)\n",
    "    for g in range(nW):\n",
    "        if isn == 100:\n",
    "            dQ = Q296[int(iso[g])-1]/QQT[int(iso[g])-1] # отношение Q296/Q(T)\n",
    "            wD = np.sqrt(2*1000*R*T/mu[int(iso[g])-1])*v[g]/c # Доплеровское уширение\n",
    "            Rn=1.0\n",
    "        else:\n",
    "            dQ = Q0/QQT0 # отношение Q296/Q(T)\n",
    "            wD = np.sqrt(2*1000*R*T/mu0)*v[g]/c\n",
    "            Rn = 1/Sn0 # нормировка\n",
    "            \n",
    "        # подсчёт S(T)\n",
    "        St = Rn*S[g]*dQ*np.exp(c2*E[g]*((1/296.) - (1/T)))*(1 - np.exp(-c2*v[g]/T))/(1 - np.exp(-c2*v[g]/296.))\n",
    "        wLim = 10.\n",
    "        wFind = np.where((wGas >= v[g] - wLim) & (wGas <= v[g] + wLim))\n",
    "        wLine = wGas[wFind]\n",
    "\n",
    "        fV = (1.0e-150)*np.ones(nG)\n",
    "        fV0 = contur_Humlicek(wLine, v[g], wL[g], wD)\n",
    "        fV[wFind] = St*fV0\n",
    "        cGas = cGas + fV\n",
    "        \n",
    "    cGas = cGas[np.where((wGas >= w1) & (wGas <= w2))]\n",
    "    wGas = wGas[np.where((wGas >= w1) & (wGas <= w2))]\n",
    "    return cGas, wGas"
   ]
  },
  {
   "cell_type": "code",
   "execution_count": 8,
   "metadata": {
    "collapsed": true
   },
   "outputs": [],
   "source": [
    "# профили T, p \n",
    "data1 = scipy.io.loadmat('pos12_SEC_Tp_co2_0-100km_3155-3220cm-1.mat')\n",
    "T = np.ravel(data1['temp'])\n",
    "P = np.ravel(data1['pres'])\n",
    "alt = np.ravel(data1['alt'])"
   ]
  },
  {
   "cell_type": "code",
   "execution_count": 9,
   "metadata": {
    "collapsed": true
   },
   "outputs": [],
   "source": [
    "data_custom = dict.fromkeys(['SECmat_ch4', 'alt', 'pres', 'temp', 'wGas'])\n",
    "data_custom['alt'] = alt\n",
    "data_custom['pres'] = P\n",
    "data_custom['temp'] = T"
   ]
  },
  {
   "cell_type": "code",
   "execution_count": 10,
   "metadata": {},
   "outputs": [
    {
     "name": "stdout",
     "output_type": "stream",
     "text": [
      "0\n",
      "1\n",
      "2\n",
      "3\n",
      "4\n",
      "5\n",
      "6\n",
      "7\n",
      "8\n",
      "9\n",
      "10\n",
      "11\n",
      "12\n",
      "13\n",
      "14\n",
      "15\n",
      "16\n",
      "17\n",
      "18\n",
      "19\n",
      "20\n"
     ]
    }
   ],
   "source": [
    "for i in range(len(P)):\n",
    "    cGas_, wGas = cross(T[i], P[i], 2900, 3200, 100)\n",
    "    if (i == 0):\n",
    "        cGas = np.empty(len(cGas_))\n",
    "    # создание матрицы сечений\n",
    "    cGas = np.row_stack((cGas, cGas_))\n",
    "    print(i)\n",
    "data_custom['wGas'] = wGas\n",
    "data_custom['SECmat_ch4'] = cGas\n",
    "scipy.io.savemat('secmat_ch4.mat', data_custom)"
   ]
  },
  {
   "cell_type": "code",
   "execution_count": 11,
   "metadata": {},
   "outputs": [
    {
     "data": {
      "text/plain": [
       "{'SECmat_ch4': array([[  0.00000000e+00,   0.00000000e+00,   0.00000000e+00, ...,\n",
       "           0.00000000e+00,   0.00000000e+00,   0.00000000e+00],\n",
       "        [  1.20643278e-24,   1.22991631e-24,   1.07758357e-24, ...,\n",
       "           8.56421942e-28,   1.30808951e-27,   1.81441995e-27],\n",
       "        [  1.32197746e-24,   1.34738139e-24,   1.18315642e-24, ...,\n",
       "           1.15962686e-27,   1.76163685e-27,   2.43362643e-27],\n",
       "        ..., \n",
       "        [  8.86847004e-23,   8.91723810e-23,   8.91559567e-23, ...,\n",
       "           3.11417232e-25,   3.96230826e-25,   4.83883314e-25],\n",
       "        [  1.24297700e-22,   1.24975293e-22,   1.25080587e-22, ...,\n",
       "           9.73991458e-25,   1.20121750e-24,   1.43239290e-24],\n",
       "        [  1.60166965e-22,   1.61044442e-22,   1.61280775e-22, ...,\n",
       "           3.13923348e-24,   3.75326404e-24,   4.36833137e-24]]),\n",
       " 'alt': array([ 100.,   95.,   90.,   85.,   80.,   75.,   70.,   65.,   60.,\n",
       "          55.,   50.,   45.,   40.,   35.,   30.,   25.,   20.,   15.,\n",
       "          10.,    5.,    0.]),\n",
       " 'pres': array([  7.38200000e-05,   1.30300000e-04,   2.52000000e-04,\n",
       "          4.83300000e-04,   8.41400000e-04,   1.51300000e-03,\n",
       "          2.79500000e-03,   4.81600000e-03,   8.41400000e-03,\n",
       "          1.57800000e-02,   2.79600000e-02,   4.89000000e-02,\n",
       "          9.65000000e-02,   1.78800000e-01,   3.14100000e-01,\n",
       "          6.10200000e-01,   1.07800000e+00,   1.76000000e+00,\n",
       "          3.04800000e+00,   4.92100000e+00,   7.41000000e+00]),\n",
       " 'temp': array([ 143.2,  145.3,  146.7,  151.6,  158. ,  161.6,  163.5,  164.3,\n",
       "         164.4,  163. ,  160.6,  157.1,  154.4,  153.5,  155.5,  162.7,\n",
       "         172.3,  184.4,  197.4,  213.8,  234. ]),\n",
       " 'wGas': array([ 2900.00000001,  2900.00100001,  2900.00200001, ...,  3199.99700007,\n",
       "         3199.99800007,  3199.99900007])}"
      ]
     },
     "execution_count": 11,
     "metadata": {},
     "output_type": "execute_result"
    }
   ],
   "source": [
    "data_custom"
   ]
  }
 ],
 "metadata": {
  "kernelspec": {
   "display_name": "Python 3",
   "language": "python",
   "name": "python3"
  },
  "language_info": {
   "codemirror_mode": {
    "name": "ipython",
    "version": 3
   },
   "file_extension": ".py",
   "mimetype": "text/x-python",
   "name": "python",
   "nbconvert_exporter": "python",
   "pygments_lexer": "ipython3",
   "version": "3.6.1"
  }
 },
 "nbformat": 4,
 "nbformat_minor": 2
}
